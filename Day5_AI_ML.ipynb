{
  "nbformat": 4,
  "nbformat_minor": 0,
  "metadata": {
    "colab": {
      "name": "Day5 AI-ML.ipynb",
      "provenance": [],
      "collapsed_sections": []
    },
    "kernelspec": {
      "name": "python3",
      "display_name": "Python 3"
    }
  },
  "cells": [
    {
      "cell_type": "markdown",
      "metadata": {
        "id": "Xj9QYuD-xuAQ",
        "colab_type": "text"
      },
      "source": [
        "#**Day 5 Assignment**\n",
        "###***Python Programs***"
      ]
    },
    {
      "cell_type": "markdown",
      "metadata": {
        "id": "M4LGRXiVx9h0",
        "colab_type": "text"
      },
      "source": [
        "###**Question 1:** First 20 Non-Even Prime Numbers"
      ]
    },
    {
      "cell_type": "code",
      "metadata": {
        "id": "ufiReRSZxMSh",
        "colab_type": "code",
        "colab": {
          "base_uri": "https://localhost:8080/",
          "height": 357
        },
        "outputId": "0d745897-e039-4e3e-a3db-ea49e2e16c52"
      },
      "source": [
        "count=0                                    #to maintain count of first 20 non-even prime\n",
        "i=2                                        #starting value\n",
        "while count<20:\n",
        "  for j in range(2,i):                     #prime number logic\n",
        "    if i%j==0:\n",
        "      break\n",
        "  else:\n",
        "    if i%2!=0:                             #prime as well as odd number logic\n",
        "      print(\"\\033[1m\\033[94m-->\",i)\n",
        "      count+=1\n",
        "  i+=1"
      ],
      "execution_count": 1,
      "outputs": [
        {
          "output_type": "stream",
          "text": [
            "\u001b[1m\u001b[94m--> 3\n",
            "\u001b[1m\u001b[94m--> 5\n",
            "\u001b[1m\u001b[94m--> 7\n",
            "\u001b[1m\u001b[94m--> 11\n",
            "\u001b[1m\u001b[94m--> 13\n",
            "\u001b[1m\u001b[94m--> 17\n",
            "\u001b[1m\u001b[94m--> 19\n",
            "\u001b[1m\u001b[94m--> 23\n",
            "\u001b[1m\u001b[94m--> 29\n",
            "\u001b[1m\u001b[94m--> 31\n",
            "\u001b[1m\u001b[94m--> 37\n",
            "\u001b[1m\u001b[94m--> 41\n",
            "\u001b[1m\u001b[94m--> 43\n",
            "\u001b[1m\u001b[94m--> 47\n",
            "\u001b[1m\u001b[94m--> 53\n",
            "\u001b[1m\u001b[94m--> 59\n",
            "\u001b[1m\u001b[94m--> 61\n",
            "\u001b[1m\u001b[94m--> 67\n",
            "\u001b[1m\u001b[94m--> 71\n",
            "\u001b[1m\u001b[94m--> 73\n"
          ],
          "name": "stdout"
        }
      ]
    },
    {
      "cell_type": "markdown",
      "metadata": {
        "id": "lf9LOUuR0-W4",
        "colab_type": "text"
      },
      "source": [
        "###**Question 2:** Functions of String"
      ]
    },
    {
      "cell_type": "code",
      "metadata": {
        "id": "jE304yyZ1KdR",
        "colab_type": "code",
        "colab": {
          "base_uri": "https://localhost:8080/",
          "height": 289
        },
        "outputId": "aefbc6e8-7a21-4d8b-87aa-e54e93e5e0e3"
      },
      "source": [
        "\n",
        "str = \"String Functions\"\n",
        "print(\"1.  UPPER -->\",str.upper())\n",
        "print(\"2.  lower -->\",str.lower())\n",
        "print(\"3.  Capitalize -->\",str.capitalize())\n",
        "print(\"4.  casefold -->\",str.casefold())\n",
        "print(\"5.  isalnum -->\",str.isalnum())\n",
        "print(\"6.  Title -->\",str.title())\n",
        "print(\"7.  center -->\",str.center(20))\n",
        "print(\"8.  count -->\",str.count('n'))\n",
        "print(\"9.  encode -->\",str.encode())\n",
        "print(\"10. endswith -->\",str.endswith('s'))\n",
        "print(\"11. find -->\",str.find('F'))\n",
        "print(\"12. index -->\",str.index('F'))\n",
        "print(\"13. isalpha -->\",str.isalpha())\n",
        "print(\"14. islower -->\",str.islower())\n",
        "print(\"15. strip -->\",str.strip('ons'))\n",
        "print(\"16. partition -->\",str.partition(' '))"
      ],
      "execution_count": 9,
      "outputs": [
        {
          "output_type": "stream",
          "text": [
            "1.  UPPER --> STRING FUNCTIONS\n",
            "2.  lower --> string functions\n",
            "3.  Capitalize --> String functions\n",
            "4.  casefold --> string functions\n",
            "5.  isalnum --> False\n",
            "6.  Title --> String Functions\n",
            "7.  center -->   String Functions  \n",
            "8.  count --> 3\n",
            "9.  encode --> b'String Functions'\n",
            "10. endswith --> True\n",
            "11. find --> 7\n",
            "12. index --> 7\n",
            "13. isalpha --> False\n",
            "14. islower --> False\n",
            "15. strip --> String Functi\n",
            "16. partition --> ('String', ' ', 'Functions')\n"
          ],
          "name": "stdout"
        }
      ]
    },
    {
      "cell_type": "markdown",
      "metadata": {
        "id": "xBHPXjn23lzn",
        "colab_type": "text"
      },
      "source": [
        "###**Question 3:**  Palindrome ? Anagram ? or None ?"
      ]
    },
    {
      "cell_type": "code",
      "metadata": {
        "id": "jMD4c0-a2CHM",
        "colab_type": "code",
        "colab": {
          "base_uri": "https://localhost:8080/",
          "height": 238
        },
        "outputId": "1b72859e-1b6d-45a4-af92-c92528b1c621"
      },
      "source": [
        "import collections as c\n",
        "\n",
        "print(\"\\n\\033[1m***String Specials***\\033[0m\\n\")\n",
        "str1=input(\"\\nEnter String:\\t\")\n",
        "\n",
        "#Reverse string\n",
        "rev=str1[::-1]\n",
        "\n",
        "#Palindrome check\n",
        "if str1==rev:\n",
        "  print(\"\\n\\033[32m\\033[1mEntered String\",str1,\"is a palindrome\\n\")\n",
        "else:\n",
        "  print(\"\\n\\033[0m\\033[91mEntered String\",str1,\"is not a palindrome\\n\")\n",
        "\n",
        "#anagram check\n",
        "str2=input(\"\\nEnter Second String:\\t\")\n",
        "string1 = list(str1)\n",
        "string2 = list(str2)\n",
        "\n",
        "if c.Counter(string1) == c.Counter(string2):\n",
        "  print(\"\\n\\033[32m\\033[1mEntered Strings are an Anagram\\n\")\n",
        "else:\n",
        "  print(\"\\n\\033[0m\\033[91mEntered Strings are not an Anagram\\n\")"
      ],
      "execution_count": 14,
      "outputs": [
        {
          "output_type": "stream",
          "text": [
            "\n",
            "\u001b[1m***String Specials***\u001b[0m\n",
            "\n",
            "\n",
            "Enter String:\tdata\n",
            "\n",
            "\u001b[0m\u001b[91mEntered String data is not a palindrome\n",
            "\n",
            "\n",
            "Enter Second String:\ttdaa\n",
            "\n",
            "\u001b[32m\u001b[1mEntered Strings are an Anagram\n",
            "\n"
          ],
          "name": "stdout"
        }
      ]
    },
    {
      "cell_type": "markdown",
      "metadata": {
        "id": "UYv76SGQ6L_w",
        "colab_type": "text"
      },
      "source": [
        "###**Question 4:** String Special Characters Clean-UP"
      ]
    },
    {
      "cell_type": "code",
      "metadata": {
        "id": "l_LthOef5jDL",
        "colab_type": "code",
        "colab": {
          "base_uri": "https://localhost:8080/",
          "height": 85
        },
        "outputId": "63e75951-a5d5-48c4-aed7-d425d9261e97"
      },
      "source": [
        "str1=input(\"\\nEnter the String for Special character cleanup:\\t\")\n",
        "str1=str1.lower()\n",
        "print(\"\\033[34m\")\n",
        "for i in str1:\n",
        "  if i.isalpha():\n",
        "    print(i,end=\"\")"
      ],
      "execution_count": 19,
      "outputs": [
        {
          "output_type": "stream",
          "text": [
            "\n",
            "Enter the String for Special character cleanup:\tDr. Darshan Ingle @AI-ML Trainer\n",
            "\u001b[34m\n",
            "drdarshaningleaimltrainer"
          ],
          "name": "stdout"
        }
      ]
    },
    {
      "cell_type": "code",
      "metadata": {
        "id": "dh1eStpc6_Z7",
        "colab_type": "code",
        "colab": {}
      },
      "source": [
        ""
      ],
      "execution_count": null,
      "outputs": []
    }
  ]
}