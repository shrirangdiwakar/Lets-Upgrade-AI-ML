{
  "nbformat": 4,
  "nbformat_minor": 0,
  "metadata": {
    "colab": {
      "name": "Day3 AI-ML.ipynb",
      "provenance": [],
      "collapsed_sections": [],
      "authorship_tag": "ABX9TyNbbDPPdPbRuDYOeV2eDt2o",
      "include_colab_link": true
    },
    "kernelspec": {
      "name": "python3",
      "display_name": "Python 3"
    }
  },
  "cells": [
    {
      "cell_type": "markdown",
      "metadata": {
        "id": "view-in-github",
        "colab_type": "text"
      },
      "source": [
        "<a href=\"https://colab.research.google.com/github/shrirangdiwakar/Lets-Upgrade-AI-ML/blob/master/Day3_AI_ML.ipynb\" target=\"_parent\"><img src=\"https://colab.research.google.com/assets/colab-badge.svg\" alt=\"Open In Colab\"/></a>"
      ]
    },
    {
      "cell_type": "markdown",
      "metadata": {
        "id": "C6lIL-oVWBcE",
        "colab_type": "text"
      },
      "source": [
        "#**Day3 Assignment**\n",
        "###***Python Basics***"
      ]
    },
    {
      "cell_type": "markdown",
      "metadata": {
        "id": "weQ9TCSrWoWj",
        "colab_type": "text"
      },
      "source": [
        "###Question 1: Complex Arithmetic"
      ]
    },
    {
      "cell_type": "code",
      "metadata": {
        "id": "NaF8qiAHV0eY",
        "colab_type": "code",
        "colab": {
          "base_uri": "https://localhost:8080/",
          "height": 34
        },
        "outputId": "4671089d-f7d7-474a-9ef3-b877eaf0a263"
      },
      "source": [
        "com1 = 2+3j\n",
        "com2 = 4+2j\n",
        "result = com1-com2\n",
        "print(result)"
      ],
      "execution_count": null,
      "outputs": [
        {
          "output_type": "stream",
          "text": [
            "(-2+1j)\n"
          ],
          "name": "stdout"
        }
      ]
    },
    {
      "cell_type": "markdown",
      "metadata": {
        "id": "1dipTyZZWs2X",
        "colab_type": "text"
      },
      "source": [
        "###Question 2: Fourth Root"
      ]
    },
    {
      "cell_type": "code",
      "metadata": {
        "id": "RPbHhNY4WyTS",
        "colab_type": "code",
        "colab": {
          "base_uri": "https://localhost:8080/",
          "height": 68
        },
        "outputId": "87dedbf2-8c00-4996-a5dc-8790feb699a6"
      },
      "source": [
        "import math as m\n",
        "num = int(input(\"Enter a number\"))\n",
        "print(\"The Fourth root of\",num,\"using Square root function is:\",m.sqrt(m.sqrt(num)))\n",
        "print(\"The Fourth root of\",num,\"using Exponential function is:\",num**(1/4))"
      ],
      "execution_count": null,
      "outputs": [
        {
          "output_type": "stream",
          "text": [
            "Enter a number256\n",
            "The Fourth root of 256 using Square root function is: 4.0\n",
            "The Fourth root of 256 using Exponential function is: 4.0\n"
          ],
          "name": "stdout"
        }
      ]
    },
    {
      "cell_type": "markdown",
      "metadata": {
        "id": "BKsZTUuYXsj3",
        "colab_type": "text"
      },
      "source": [
        "###Question 3: Swapping Two Numbers using Temp variable"
      ]
    },
    {
      "cell_type": "code",
      "metadata": {
        "id": "HO0aaZw-XmhX",
        "colab_type": "code",
        "colab": {
          "base_uri": "https://localhost:8080/",
          "height": 85
        },
        "outputId": "47bda353-86d8-41ec-f918-f14a65a2c0f5"
      },
      "source": [
        "num1 = int(input(\"Enter First number\\t\"))\n",
        "num2 = int(input(\"Enter Second number\\t\"))\n",
        "print(\"The First number is\",num1,\"and Second number is\",num2)\n",
        "temp1 = num1\n",
        "num1=num2\n",
        "num2 = temp1\n",
        "print(\"After Swapping, The first number is\",num1,\"And second number is\",num2)"
      ],
      "execution_count": null,
      "outputs": [
        {
          "output_type": "stream",
          "text": [
            "Enter First number\t14\n",
            "Enter Second number\t10\n",
            "The First number is 14 and Second number is 10\n",
            "After Swapping, The first number is 10 And second number is 14\n"
          ],
          "name": "stdout"
        }
      ]
    },
    {
      "cell_type": "markdown",
      "metadata": {
        "id": "ObjcOziOYX_B",
        "colab_type": "text"
      },
      "source": [
        "###Question 4: Swapping numbers without using temp variable"
      ]
    },
    {
      "cell_type": "code",
      "metadata": {
        "id": "uUfAlZQ8YXvZ",
        "colab_type": "code",
        "colab": {
          "base_uri": "https://localhost:8080/",
          "height": 102
        },
        "outputId": "aa6f7f35-73b7-43e1-f075-eb289078858a"
      },
      "source": [
        "num1 = int(input(\"Enter First number\\t\"))\n",
        "num2 = int(input(\"Enter Second number\\t\"))\n",
        "print(\"The First number is\",num1,\"and Second number is\",num2)\n",
        "num1=num1+num2\n",
        "num2=num1-num2\n",
        "num1=num1-num2\n",
        "print(\"After Swapping by arithmetic, The first number is\",num1,\"And second number is\",num2)\n",
        "num1,num2=num2,num1\n",
        "print(\"After Swapping again by python feature, The first number is\",num1,\"And second number is\",num2)"
      ],
      "execution_count": null,
      "outputs": [
        {
          "output_type": "stream",
          "text": [
            "Enter First number\t14\n",
            "Enter Second number\t10\n",
            "The First number is 14 and Second number is 10\n",
            "After Swapping by arithmetic, The first number is 10 And second number is 14\n",
            "After Swapping again by python feature, The first number is 14 And second number is 10\n"
          ],
          "name": "stdout"
        }
      ]
    },
    {
      "cell_type": "markdown",
      "metadata": {
        "id": "fyZWOPJCZ4Nq",
        "colab_type": "text"
      },
      "source": [
        "###Question 5: Temperature Conversion"
      ]
    },
    {
      "cell_type": "code",
      "metadata": {
        "id": "FCzqJBJ0Z5Ag",
        "colab_type": "code",
        "colab": {
          "base_uri": "https://localhost:8080/",
          "height": 68
        },
        "outputId": "dca1df26-5cc7-4596-e737-5651257becf6"
      },
      "source": [
        "kelvin = int(input(\"Enter temperature in kelvin\\t\"))\n",
        "celsius = kelvin - 273.15\n",
        "print(\"Celsius: \",\"{:.2f}\".format(celsius))\n",
        "fahren = celsius* 9/5 +32\n",
        "print(\"Fahrenheit: \",\"{:.2f}\".format(fahren))"
      ],
      "execution_count": null,
      "outputs": [
        {
          "output_type": "stream",
          "text": [
            "Enter temperature in kelvin\t345\n",
            "Celsius:  71.85\n",
            "Fahrenheit:  161.33\n"
          ],
          "name": "stdout"
        }
      ]
    },
    {
      "cell_type": "markdown",
      "metadata": {
        "id": "1q8M7VRnZurE",
        "colab_type": "text"
      },
      "source": [
        "###Question 6: Demonstrate Data types in Python"
      ]
    },
    {
      "cell_type": "code",
      "metadata": {
        "id": "5qdKEVUKZm17",
        "colab_type": "code",
        "colab": {
          "base_uri": "https://localhost:8080/",
          "height": 170
        },
        "outputId": "97a406ae-9cd7-4bd5-a978-d4733b2f6132"
      },
      "source": [
        "INT = 1\n",
        "print(type(INT))\n",
        "FLOAT = 0.0001\n",
        "print(type(FLOAT))\n",
        "COMPLEX = 1+2j\n",
        "print(type(COMPLEX))\n",
        "STRING = \"LETSUPGRADE\"\n",
        "print(type(STRING))\n",
        "BOOL = True;\n",
        "print(type(BOOL))\n",
        "LIST1 = [1,2,3]\n",
        "print(type(LIST1))\n",
        "TUPLE1 = (1,2,3)\n",
        "print(type(TUPLE1))\n",
        "SET1 = {1,2,3,6}\n",
        "print(type(SET1))\n",
        "DICT1 = {1:\"one\", 2:\"two\", 3:\"three\"}\n",
        "print(type(DICT1))"
      ],
      "execution_count": null,
      "outputs": [
        {
          "output_type": "stream",
          "text": [
            "<class 'int'>\n",
            "<class 'float'>\n",
            "<class 'complex'>\n",
            "<class 'str'>\n",
            "<class 'bool'>\n",
            "<class 'list'>\n",
            "<class 'tuple'>\n",
            "<class 'set'>\n",
            "<class 'dict'>\n"
          ],
          "name": "stdout"
        }
      ]
    },
    {
      "cell_type": "markdown",
      "metadata": {
        "id": "JU4NWlDCa_4a",
        "colab_type": "text"
      },
      "source": [
        "###Question 7: "
      ]
    },
    {
      "cell_type": "markdown",
      "metadata": {
        "id": "P3pEDwWKbVcx",
        "colab_type": "text"
      },
      "source": [
        "\n",
        "#**GitHub**\n",
        "\n",
        "###**What is GitHub:**\n",
        "1.GitHub is a Version Control plateform.\n",
        "\n",
        "2.Multiple Users can work on same project at the same time\n",
        "\n",
        "*KEY CONCEPTS*: Repositories, Branches, Commits\n",
        "\n",
        "**Repositories**: It is a storage space same as directories where we can store our projects and files.\n",
        "\n",
        "**Branches:** Branch makes copy of the existing project where we can work without disturbing running project.\n",
        "Branch is used when we have to make a unique and major change in project without disturbing the main and running project.\n",
        "\n",
        "**Commits**: Commit is used to save changes in the project on GitHub.\n",
        "\n",
        "\n",
        "###**Methods to upload/commit a project:**\n",
        "**1. Drag and Drop:**\n",
        "\n",
        "***Step 1:*** Store all the project files in one folder on local machine\n",
        "\n",
        "***Step 2:*** Create a new Repository on GitHub\n",
        "\n",
        "***Step 3:*** Select option of \"Upload files\" under \"Add files\" option\n",
        "\n",
        "***Step 4:*** Drag the project folder from your local machine and drop it in the given space\n",
        "\n",
        "**2. Using Bash:**\n",
        "\n",
        "***Step 1:*** Store all the project files in one folder on local machine\n",
        "\n",
        "***Step 2:*** Create a new Repository on GitHub\n",
        "\n",
        "***Step 3:*** Open Git bash\n",
        "\n",
        "***Step 4:*** Visit the location of project by giving the path on cmd\n",
        "\n",
        "***Step 5:*** Intitalize directory as GitHub repo\n",
        "\n",
        "***Step 6:*** Add the files in your new local repository. This stages them for the \n",
        "first commit.\n",
        "\n",
        "***Step 7:*** Commit the files that you've staged in your local repository.\n",
        "\n",
        "***Step 8:*** At the top of your GitHub repository's Quick Setup page, click to copy the remote repository URL.\n",
        "\n",
        "***Step 9:*** In the Command prompt, add the URL for the remote repository where your local repository will be pushed.\n",
        "\n",
        "***Step 10:*** Push the changes in your local repository to GitHub.\n",
        "\n",
        "**3. Using GITHUB GUI**\n",
        "There are few GUI's available for easy handeling of GitHub profile\n",
        "\n",
        "GitHub Desktop\n",
        "SourceTree\n",
        "Git Cola"
      ]
    },
    {
      "cell_type": "code",
      "metadata": {
        "id": "Y3Bvm7Uta8BM",
        "colab_type": "code",
        "colab": {}
      },
      "source": [
        ""
      ],
      "execution_count": null,
      "outputs": []
    }
  ]
}