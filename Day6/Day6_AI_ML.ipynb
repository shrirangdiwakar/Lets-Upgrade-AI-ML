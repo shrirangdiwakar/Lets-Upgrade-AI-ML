{
 "cells": [
  {
   "cell_type": "markdown",
   "metadata": {},
   "source": [
    "## **Day6 Assignments**\n",
    "### ***Python Programs***\n"
   ]
  },
  {
   "cell_type": "markdown",
   "metadata": {},
   "source": [
    "### Question 1: Extracting company name from email address"
   ]
  },
  {
   "cell_type": "code",
   "execution_count": 3,
   "metadata": {},
   "outputs": [
    {
     "name": "stdout",
     "output_type": "stream",
     "text": [
      "\n",
      "Enter Email address:\ttest@test\n",
      "\u001b[1m\u001b[91mEnter appropriate email address\u001b[0m\n",
      "\n",
      "Enter Email address:\ttesttest.com\n",
      "\u001b[1m\u001b[91mEnter appropriate email address\u001b[0m\n",
      "\n",
      "Enter Email address:\ttest@test.com\n",
      "\n",
      "\u001b[1m\u001b[1m The Company registered with that email address is :\u001b[32m test\n",
      "\u001b[0m\n",
      "\n",
      "Enter Email address:\tshrirang4444@gmail.com\n",
      "\n",
      "\u001b[1m\u001b[1m The Company registered with that email address is :\u001b[32m gmail\n",
      "\u001b[0m\n",
      "\n",
      "Enter Email address:\tshrirang_diwakar@bugcrowdninja.com\n",
      "\n",
      "\u001b[1m\u001b[1m The Company registered with that email address is :\u001b[32m bugcrowdninja\n",
      "\u001b[0m\n"
     ]
    }
   ],
   "source": [
    "i=0\n",
    "\n",
    "while i<3:\n",
    "    str1 = (input(\"\\nEnter Email address:\\t\"))\n",
    "    \n",
    "    at_index = str1.find('@')\n",
    "    dot_index = str1.find('.')\n",
    "\n",
    "    #invalid email check\n",
    "    if at_index==-1 or dot_index==-1 or len(str1)==0:\n",
    "        print(\"\\033[1m\\033[91mEnter appropriate email address\\033[0m\")\n",
    "        continue\n",
    "        \n",
    "    #splitting from '@'\n",
    "    temp = str1.split('@')\n",
    "    \n",
    "    #splitting second part from '.'\n",
    "    temp1 = temp[1].split('.')\n",
    "    \n",
    "    final_comp = temp1[0]\n",
    "    \n",
    "    print(\"\\n\\033[1m\\033[1m The Company registered with that email address is :\\033[32m\",final_comp)\n",
    "    print(\"\\033[0m\")\n",
    "    i+=1"
   ]
  },
  {
   "cell_type": "markdown",
   "metadata": {},
   "source": [
    "### Question 2: Sorting and Split print"
   ]
  },
  {
   "cell_type": "code",
   "execution_count": 11,
   "metadata": {},
   "outputs": [
    {
     "name": "stdout",
     "output_type": "stream",
     "text": [
      "Enter the words separated by comma ',' :without,hello,bag,world\n",
      "\n",
      "\u001b[1mThe Sorted Words are: \u001b[94m bag,\u001b[94m hello,\u001b[94m without,\u001b[94m world,"
     ]
    }
   ],
   "source": [
    "list_words = input(\"Enter the words separated by comma ',' :\").split(',')\n",
    "list_words.sort()\n",
    "\n",
    "print(\"\\n\\033[1mThe Sorted Words are: \",end=\"\")\n",
    "for i in list_words:\n",
    "    print(\"\\033[94m\",i,end=\",\")"
   ]
  },
  {
   "cell_type": "markdown",
   "metadata": {},
   "source": [
    "### Question 3: New Notebook Created (check that out)"
   ]
  },
  {
   "cell_type": "markdown",
   "metadata": {},
   "source": [
    "### Question 4: Find the Missing Number"
   ]
  },
  {
   "cell_type": "code",
   "execution_count": 68,
   "metadata": {},
   "outputs": [
    {
     "name": "stdout",
     "output_type": "stream",
     "text": [
      "\n",
      "Enter elements separated by Whitespace:\t18 20 19 15 7 9 2 4 1 5 10 16 12 14 3 8 11 6 17\n",
      "\n",
      "\u001b[1mThe Missing value is: \u001b[91m 13 \u001b[0m\n"
     ]
    }
   ],
   "source": [
    "# function for missing element\n",
    "def missing_element(num_list):\n",
    "    num_list.sort()                                          #sorting first\n",
    "    if num_list[0]!=1:                                       # wrong input check\n",
    "        print(\"\\nThe Missing value is: 1 or 0 is entered\")\n",
    "    else:\n",
    "        recursive(num_list,0)                                # recursive call\n",
    "\n",
    "        \n",
    "#logic for missing number\n",
    "def recursive(num_list,flag):\n",
    "    total = len(num_list)\n",
    "    \n",
    "    while total>1:\n",
    "        n = int(total/2)                                     #divide list in half for faster processing and less complexity\n",
    "        if num_list[n]-n > 1 and flag == 0:                  #initial check for LHS misconfiguration of mid (index check)\n",
    "            total = n\n",
    "            \n",
    "        elif flag == 1 :                                     #recursive call requires diff logic than initial logic\n",
    "            if (num_list[n]-num_list[n-1] > 1) or (n != (num_list[n]-num_list[0])):        #previous no. check if consecutive\n",
    "                total = n\n",
    "                if total == 1:\n",
    "                    break\n",
    "                temp = num_list[:total]\n",
    "                recursive(temp,1)\n",
    "                break\n",
    "                \n",
    "            else:                                             #RHS misconfiguration after call\n",
    "                temp = num_list[n:total]\n",
    "                recursive(temp,1)\n",
    "                break\n",
    "                \n",
    "        else:                                                 #initial RHS misconfiguration of mid\n",
    "                num_list = num_list[n:total]\n",
    "                total = total - n\n",
    "                flag = 1\n",
    "               \n",
    "        \n",
    "    if total == 1:\n",
    "        print(\"\\n\\033[1mThe Missing value is: \\033[91m\",num_list[0]+1,\"\\033[0m\")\n",
    "    \n",
    "    \n",
    "num_list = list(map(int,input(\"\\nEnter elements separated by Whitespace:\\t\").split(\" \")))\n",
    "missing_element(num_list)"
   ]
  },
  {
   "cell_type": "markdown",
   "metadata": {},
   "source": [
    "###  Question 5: Duplicate Removal Program"
   ]
  },
  {
   "cell_type": "code",
   "execution_count": 131,
   "metadata": {},
   "outputs": [
    {
     "name": "stdout",
     "output_type": "stream",
     "text": [
      "\n",
      "Enter the Elements list:\t12 24 35 24 88 120 155 88 120 155\n",
      "\n",
      "\u001b[1mThe Cleaned list is:\t\u001b[32m [12, 24, 35, 88, 120, 155] \u001b[0m\n"
     ]
    }
   ],
   "source": [
    "#logic for duplicates removal\n",
    "def remove(dup_list):\n",
    "\n",
    "    #reverse list for preserving first occurrence\n",
    "    dup_list.reverse()\n",
    "    \n",
    "    flag = 1\n",
    "    while flag:\n",
    "        repeat_num = count(dup_list)                                   # this will count if any duplicates are present or not\n",
    "\n",
    "    \n",
    "        if repeat_num:                                                 # multiple occurrences still present\n",
    "            for number in repeat_num:\n",
    "                dup_list.remove(number)\n",
    "        else:                                                          # Success, no multiple occurrences found\n",
    "            dup_list.reverse()\n",
    "            print(\"\\n\\033[1mThe Cleaned list is:\\t\\033[32m\",dup_list,\"\\033[0m\")\n",
    "            flag = 0\n",
    "\n",
    "\n",
    "#function to count duplicates\n",
    "def count(dup_list):\n",
    "    flag = 0\n",
    "    repeat_num = []\n",
    "    for i in dup_list:\n",
    "        if dup_list.count(i) > 1 and repeat_num.count(i) == 0:          # element should have more than 1 occurrence and \n",
    "            repeat_num.append(i)                                        # not present in repeat list\n",
    "\n",
    "            \n",
    "    return repeat_num\n",
    "\n",
    "\n",
    "dup_list = list(map(int,input(\"\\nEnter the Elements list:\\t\").split(\" \")))\n",
    "remove(dup_list)"
   ]
  },
  {
   "cell_type": "code",
   "execution_count": null,
   "metadata": {},
   "outputs": [],
   "source": []
  }
 ],
 "metadata": {
  "kernelspec": {
   "display_name": "Python 3.8.3 32-bit",
   "language": "python",
   "name": "python38332bit81e14d9a8fcf46c08eeefa70cbd273b3"
  },
  "language_info": {
   "codemirror_mode": {
    "name": "ipython",
    "version": 3
   },
   "file_extension": ".py",
   "mimetype": "text/x-python",
   "name": "python",
   "nbconvert_exporter": "python",
   "pygments_lexer": "ipython3",
   "version": "3.8.3"
  }
 },
 "nbformat": 4,
 "nbformat_minor": 4
}
