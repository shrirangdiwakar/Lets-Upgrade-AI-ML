{
  "nbformat": 4,
  "nbformat_minor": 0,
  "metadata": {
    "colab": {
      "name": "Day4 AI-ML.ipynb",
      "provenance": [],
      "collapsed_sections": [],
      "authorship_tag": "ABX9TyMhlRjJLhBkKiIGolFeBaAT",
      "include_colab_link": true
    },
    "kernelspec": {
      "name": "python3",
      "display_name": "Python 3"
    }
  },
  "cells": [
    {
      "cell_type": "markdown",
      "metadata": {
        "id": "view-in-github",
        "colab_type": "text"
      },
      "source": [
        "<a href=\"https://colab.research.google.com/github/shrirangdiwakar/Lets-Upgrade-AI-ML/blob/master/Day4_AI_ML.ipynb\" target=\"_parent\"><img src=\"https://colab.research.google.com/assets/colab-badge.svg\" alt=\"Open In Colab\"/></a>"
      ]
    },
    {
      "cell_type": "markdown",
      "metadata": {
        "id": "nvUOY68yif21",
        "colab_type": "text"
      },
      "source": [
        "#**Day 4 Assignment**\n",
        "###*Python Program*"
      ]
    },
    {
      "cell_type": "markdown",
      "metadata": {
        "id": "ZLHJakHCohZ8",
        "colab_type": "text"
      },
      "source": [
        "###**Question 1:** Complex Operations Program"
      ]
    },
    {
      "cell_type": "code",
      "metadata": {
        "id": "cGhZ5fvTdHPL",
        "colab_type": "code",
        "colab": {
          "base_uri": "https://localhost:8080/",
          "height": 340
        },
        "outputId": "22e3d584-9e9e-4fa7-efeb-dc04cbbea774"
      },
      "source": [
        "print(\"\\n\\n\\033[1m****Welcome to Complex Calculus****\\n\\n\")\n",
        "\n",
        "comp1 = complex(input(\"Enter first complex number:\\t\"))\n",
        "comp2 = complex(input(\"Enter another complex number:\\t\"))\n",
        "\n",
        "#Addition Check\n",
        "try:\n",
        "    res = comp1+comp2\n",
        "    print(\"\\n\\033[1m\\033[32mAddition is possible and result is:\\t\",res)\n",
        "except:\n",
        "    print(\"\\n\\033[91mAddition not possible\")\n",
        "\n",
        "#Subtraction\n",
        "try:\n",
        "    res= comp1-comp2\n",
        "    print(\"\\n\\033[32mSubtraction is possible and result is:\\t\",res)\n",
        "except:\n",
        "    print(\"\\n\\033[91mSubtraction not possible\")\n",
        "\n",
        "#Multiplication\n",
        "try:\n",
        "    res= comp1*comp2\n",
        "    print(\"\\n\\033[32mMultiplication is possible and result is:\\t\",res)\n",
        "except:\n",
        "    print(\"\\n\\033[91mMultiplication not possible\")\n",
        "\n",
        "#Division\n",
        "try:\n",
        "    res= comp1/comp2\n",
        "    print(\"\\n\\033[32mDivision is possible and result is:\\t\",res)\n",
        "except:\n",
        "    print(\"\\n\\033[91mDivision not possible\")\n",
        "\n",
        "#Floor Division\n",
        "try:\n",
        "    res= comp1//comp2\n",
        "    print(\"\\n\\033[32mFloor Division is possible and result is:\\t\",res)\n",
        "except:\n",
        "    print(\"\\n\\033[91mFloor Division not possible\")\n",
        "\n",
        "#Modulo\n",
        "try:\n",
        "    res= comp1 % comp2\n",
        "    print(\"\\n\\033[32mModulo is possible and result is:\\t\",res)\n",
        "except:\n",
        "    print(\"\\n\\033[91mModulo not possible\")"
      ],
      "execution_count": 12,
      "outputs": [
        {
          "output_type": "stream",
          "text": [
            "\n",
            "\n",
            "\u001b[1m****Welcome to Complex Calculus****\n",
            "\n",
            "\n",
            "Enter first complex number:\t3+4j\n",
            "Enter another complex number:\t6+8j\n",
            "\n",
            "\u001b[1m\u001b[32mAddition is possible and result is:\t (9+12j)\n",
            "\n",
            "\u001b[32mSubtraction is possible and result is:\t (-3-4j)\n",
            "\n",
            "\u001b[32mMultiplication is possible and result is:\t (-14+48j)\n",
            "\n",
            "\u001b[32mDivision is possible and result is:\t (0.5+0j)\n",
            "\n",
            "\u001b[91mFloor Division not possible\n",
            "\n",
            "\u001b[91mModulo not possible\n"
          ],
          "name": "stdout"
        }
      ]
    },
    {
      "cell_type": "markdown",
      "metadata": {
        "id": "yST5pgV7ofGT",
        "colab_type": "text"
      },
      "source": [
        "###**Question 2:** Range function and its Parameters\n",
        "\n",
        "**Range Function is a Built-in function in Python that allows us to generate numbers based upon the arguments.\n",
        "From the Name itself we can understand that Range means the scope so in simple terms Range function generates numbers on the basis of scope given**\n",
        "\n",
        "**Arguments:** *Range Function takes 1 to 3 arguments each having its own specification*\n",
        "\n",
        "1.Start: number from where to start generating numbers\n",
        "\n",
        "2.Stop: number till where to generate numbers\n",
        "\n",
        "3.Step: steps to jump while generating numbers\n",
        "\n",
        "***EXAMPLE***\n",
        "\n",
        "**1. One Argument Range function:** range(5) -> this will generate numbers from 0 to 4\n",
        "\n",
        "**2. Two Argument Range Function:** range(1,5) -> this will generate numbers starting from 1 to 4\n",
        "\n",
        "**3. Three Argument Range Function:** range(1,5,2) -> this will generate numbers starting from 1 to 4 and jump 2 steps after each generation i.e 1,3 will be generated"
      ]
    },
    {
      "cell_type": "code",
      "metadata": {
        "id": "C_tsiCabksGQ",
        "colab_type": "code",
        "colab": {
          "base_uri": "https://localhost:8080/",
          "height": 425
        },
        "outputId": "a0d8a302-558a-40d1-fa38-48151f381a6e"
      },
      "source": [
        "print(\"\\033[1m***Range Function Basics***\\033[0m\")\n",
        "print(\"\\n\\nExplained through for loop\\n\\n\")\n",
        "print(\"\\033[94mOne Argument Range Function\\033[0m\")\n",
        "for i in range(5):\n",
        "    print(i)\n",
        "print(\"\\n\\n\\033[94mTwo Argument Range Function\\033[0m\")\n",
        "for i in range(1,5):\n",
        "    print(i)\n",
        "print(\"\\n\\n\\033[94mThree Argument Range Function\\033[0m\")\n",
        "for i in range(1,5,2):\n",
        "    print(i)"
      ],
      "execution_count": 15,
      "outputs": [
        {
          "output_type": "stream",
          "text": [
            "\u001b[1m***Range Function Basics***\u001b[0m\n",
            "\n",
            "\n",
            "Explained through for loop\n",
            "\n",
            "\n",
            "\u001b[94mOne Argument Range Function\u001b[0m\n",
            "0\n",
            "1\n",
            "2\n",
            "3\n",
            "4\n",
            "\n",
            "\n",
            "\u001b[94mTwo Argument Range Function\u001b[0m\n",
            "1\n",
            "2\n",
            "3\n",
            "4\n",
            "\n",
            "\n",
            "\u001b[94mThree Argument Range Function\u001b[0m\n",
            "1\n",
            "3\n"
          ],
          "name": "stdout"
        }
      ]
    },
    {
      "cell_type": "markdown",
      "metadata": {
        "id": "Fp8Vszo7s3Wl",
        "colab_type": "text"
      },
      "source": [
        "###**Question 3:** If Else Demonstration"
      ]
    },
    {
      "cell_type": "code",
      "metadata": {
        "id": "p3SklKimsgLK",
        "colab_type": "code",
        "colab": {
          "base_uri": "https://localhost:8080/",
          "height": 272
        },
        "outputId": "cd18963b-66b6-4998-a4a9-e421cdceb5ca"
      },
      "source": [
        "print(\"\\n\\033[1m***IF ELSE DEMONSTRATION***\\n\\033[0m\")\n",
        "for i in range(2):\n",
        "  num1= int(input(\"\\nEnter First Number:\\t\"))\n",
        "  num2= int(input(\"Enter Second Number:\\t\"))\n",
        "  sub = num1 - num2\n",
        "  if sub>25:\n",
        "    print(\"\\n\\n\\033[94m Since The Subtraction result is greater than 25, Multiplication will be performed and result is:\",num1*num2)\n",
        "  else:\n",
        "    print(\"\\n\\n\\033[95m Since The Subtraction result is less than or equal to 25, Division will be performed and result is:\",num1/num2)\n",
        "  "
      ],
      "execution_count": 18,
      "outputs": [
        {
          "output_type": "stream",
          "text": [
            "\n",
            "\u001b[1m***IF ELSE DEMONSTRATION***\n",
            "\u001b[0m\n",
            "\n",
            "Enter First Number:\t60\n",
            "Enter Second Number:\t30\n",
            "\n",
            "\n",
            "\u001b[94m Since The Subtraction result is greater than 25, Multiplication will be performed and result is: 1800\n",
            "\n",
            "Enter First Number:\t40\n",
            "Enter Second Number:\t20\n",
            "\n",
            "\n",
            "\u001b[95m Since The Subtraction result is less than or equal to 25, Division will be performed and result is: 2.0\n"
          ],
          "name": "stdout"
        }
      ]
    },
    {
      "cell_type": "markdown",
      "metadata": {
        "id": "IkawzvykuvI9",
        "colab_type": "text"
      },
      "source": [
        "###**Question 4:** List and Modulo"
      ]
    },
    {
      "cell_type": "code",
      "metadata": {
        "id": "PMYriaCsuMk5",
        "colab_type": "code",
        "colab": {
          "base_uri": "https://localhost:8080/",
          "height": 102
        },
        "outputId": "16645ca1-a223-4cef-8eed-318580a61649"
      },
      "source": [
        "list1 = [1,2,3,4,5,6,7,8,9,10]\n",
        "for i in list1:\n",
        "  if i%2==0:\n",
        "    print(\"\\033[1m-->\",(i*i)-2)"
      ],
      "execution_count": 21,
      "outputs": [
        {
          "output_type": "stream",
          "text": [
            "\u001b[1m--> 2\n",
            "\u001b[1m--> 14\n",
            "\u001b[1m--> 34\n",
            "\u001b[1m--> 62\n",
            "\u001b[1m--> 98\n"
          ],
          "name": "stdout"
        }
      ]
    },
    {
      "cell_type": "markdown",
      "metadata": {
        "id": "BUYafSI8vWzU",
        "colab_type": "text"
      },
      "source": [
        "###**Question 5:** List and Modulo 2"
      ]
    },
    {
      "cell_type": "code",
      "metadata": {
        "id": "JKoaizFJvLYE",
        "colab_type": "code",
        "colab": {
          "base_uri": "https://localhost:8080/",
          "height": 85
        },
        "outputId": "7770372f-9489-4022-be54-1fcaa532c60d"
      },
      "source": [
        "list1 = [10,12,6,18,14,29,16,22,9,5]\n",
        "for i in list1:\n",
        "  if i/2 > 7:\n",
        "    print(\"\\033[1m\\033[32m-->\",i)\n"
      ],
      "execution_count": 24,
      "outputs": [
        {
          "output_type": "stream",
          "text": [
            "\u001b[1m\u001b[32m--> 18\n",
            "\u001b[1m\u001b[32m--> 29\n",
            "\u001b[1m\u001b[32m--> 16\n",
            "\u001b[1m\u001b[32m--> 22\n"
          ],
          "name": "stdout"
        }
      ]
    },
    {
      "cell_type": "code",
      "metadata": {
        "id": "v4tnRAa-v8-2",
        "colab_type": "code",
        "colab": {}
      },
      "source": [
        ""
      ],
      "execution_count": null,
      "outputs": []
    }
  ]
}